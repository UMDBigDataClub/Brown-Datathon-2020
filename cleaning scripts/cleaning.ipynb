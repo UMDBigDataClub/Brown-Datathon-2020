{
 "cells": [
  {
   "cell_type": "code",
   "execution_count": 25,
   "metadata": {},
   "outputs": [],
   "source": [
    "import pandas as pd"
   ]
  },
  {
   "cell_type": "code",
   "execution_count": 30,
   "metadata": {},
   "outputs": [],
   "source": [
    "df = pd.read_csv(\"total_external.csv\", dtype=\"object\")"
   ]
  },
  {
   "cell_type": "code",
   "execution_count": 33,
   "metadata": {},
   "outputs": [],
   "source": [
    "df = df.drop([\"Unnamed: 0\"], axis = 1)"
   ]
  },
  {
   "cell_type": "code",
   "execution_count": null,
   "metadata": {},
   "outputs": [],
   "source": [
    "df = df.replace(\"-\",0)"
   ]
  },
  {
   "cell_type": "code",
   "execution_count": 43,
   "metadata": {},
   "outputs": [],
   "source": [
    "cols = pd.read_csv(\"rows.csv\")\n",
    "cols = cols.drop([\"Unnamed: 0\", \"Unnamed: 0.1\",\"zip9_code\"], axis = 1)\n",
    "names = cols.columns\n",
    "df.columns = names"
   ]
  },
  {
   "cell_type": "code",
   "execution_count": 12,
   "metadata": {},
   "outputs": [],
   "source": [
    "df = df.apply(lambda row: pd.Series([str(string).replace(\"+\",\"\").replace(\"-\",\"\").replace(\",\",\"\").replace(\"N\",\"\") for string in row]), axis = 1)"
   ]
  },
  {
   "cell_type": "code",
   "execution_count": 91,
   "metadata": {},
   "outputs": [],
   "source": [
    "df = df.apply(lambda row: pd.Series([str(string).replace(\"[^0-9.]+\",\"\") for string in row]), axis = 1)"
   ]
  },
  {
   "cell_type": "code",
   "execution_count": 34,
   "metadata": {},
   "outputs": [],
   "source": [
    "df = df.fillna(0)"
   ]
  },
  {
   "cell_type": "code",
   "execution_count": 1,
   "metadata": {},
   "outputs": [],
   "source": [
    "df = df.astype(\"float\")"
   ]
  },
  {
   "cell_type": "code",
   "execution_count": 48,
   "metadata": {},
   "outputs": [],
   "source": [
    "df.to_csv(\"final_clean2.csv\")"
   ]
  },
  {
   "cell_type": "markdown",
   "metadata": {},
   "source": [
    "Below is the cleaning code that was unused, for bug testing"
   ]
  },
  {
   "cell_type": "code",
   "execution_count": 88,
   "metadata": {},
   "outputs": [
    {
     "name": "stdout",
     "output_type": "stream",
     "text": [
      "62\n",
      "100\n",
      "102\n",
      "104\n",
      "106\n",
      "108\n",
      "110\n",
      "124\n",
      "128\n"
     ]
    }
   ],
   "source": [
    "for col in df.columns:\n",
    "    try:\n",
    "        df[col].astype(\"float\")\n",
    "    except:\n",
    "        print(col)"
   ]
  },
  {
   "cell_type": "code",
   "execution_count": 27,
   "metadata": {},
   "outputs": [],
   "source": [
    "df_cols = pd.read_csv(\"final.csv\", nrows = 2)"
   ]
  },
  {
   "cell_type": "code",
   "execution_count": 32,
   "metadata": {},
   "outputs": [],
   "source": [
    "df_cols = df_cols.drop(\"Unnamed: 0\", axis = 1)"
   ]
  },
  {
   "cell_type": "code",
   "execution_count": 79,
   "metadata": {},
   "outputs": [
    {
     "name": "stdout",
     "output_type": "stream",
     "text": [
      "10028\n",
      "14911\n",
      "14912\n",
      "14913\n",
      "14914\n",
      "15566\n",
      "15567\n",
      "143334\n",
      "143335\n",
      "143336\n",
      "144552\n",
      "181514\n",
      "181515\n",
      "183520\n",
      "183521\n",
      "183522\n",
      "183523\n",
      "183524\n",
      "183525\n",
      "183526\n",
      "183527\n",
      "192157\n",
      "192158\n",
      "192159\n",
      "192160\n",
      "193120\n",
      "210455\n",
      "210456\n",
      "210457\n",
      "214847\n",
      "214848\n",
      "217654\n",
      "236285\n",
      "236286\n",
      "236287\n",
      "245720\n",
      "245721\n",
      "245722\n",
      "249883\n",
      "249884\n",
      "249885\n",
      "255965\n",
      "255966\n",
      "255967\n",
      "255968\n",
      "255969\n",
      "255970\n",
      "259376\n",
      "259377\n",
      "259378\n",
      "259379\n",
      "259380\n"
     ]
    }
   ],
   "source": [
    "for n, value in enumerate(df.iloc[:,62]):\n",
    "    try:\n",
    "        a = float(value)\n",
    "    except:\n",
    "        print(n)"
   ]
  },
  {
   "cell_type": "code",
   "execution_count": 90,
   "metadata": {},
   "outputs": [
    {
     "name": "stdout",
     "output_type": "stream",
     "text": [
      "\n"
     ]
    }
   ],
   "source": [
    "print(str(df.iloc[10028,62])"
   ]
  }
 ],
 "metadata": {
  "kernelspec": {
   "display_name": "Python 3",
   "language": "python",
   "name": "python3"
  },
  "language_info": {
   "codemirror_mode": {
    "name": "ipython",
    "version": 3
   },
   "file_extension": ".py",
   "mimetype": "text/x-python",
   "name": "python",
   "nbconvert_exporter": "python",
   "pygments_lexer": "ipython3",
   "version": "3.6.5"
  }
 },
 "nbformat": 4,
 "nbformat_minor": 4
}
