{
 "cells": [
  {
   "cell_type": "code",
   "execution_count": 37,
   "metadata": {},
   "outputs": [],
   "source": [
    "import pandas as pd"
   ]
  },
  {
   "cell_type": "code",
   "execution_count": 117,
   "metadata": {},
   "outputs": [],
   "source": [
    "### Read in all of the data ###\n",
    "\n",
    "allhomes = pd.read_csv(\"zillow_allhomes.csv\", encoding = \"latin1\")\n",
    "\n",
    "mediandl = pd.read_csv(\"MedianDailyListings_NSA_AllHomes_Zip.csv\", encoding = \"latin1\")\n",
    "monthlyl = pd.read_csv(\"MonthlyListings_NSA_AllHomes_Zip.csv\", encoding = \"latin1\")\n",
    "newmonthlyl = pd.read_csv(\"NewMonthlyListings_NSA_AllHomes_Zip.csv\", encoding = \"latin1\")\n",
    "salecounts = pd.read_csv(\"Sale_Counts_Zip.csv\", encoding = \"latin1\")\n",
    "salesprev = pd.read_csv(\"SalesPrevForeclosed_Share_Zip.csv\", encoding = \"latin1\")\n",
    "mppr = pd.read_csv(\"Zip_MedianPctOfPriceReduction_AllHomes.csv\", encoding = \"latin1\")"
   ]
  },
  {
   "cell_type": "code",
   "execution_count": 118,
   "metadata": {},
   "outputs": [],
   "source": [
    "### Extract only the columns that we want, and mark them to denote the appropriate table which they are from ###\n",
    "\n",
    "dfs = [mediandl, monthlyl, newmonthlyl, salecounts, salesprev, mppr]\n",
    "names = [\"MedianDailyListings\",\"MonthlyListings\",\"NewMonthlyListings\"\"SaleCounts\",\"SalesForeclosed\",\"MedianPriceReduction\"]\n",
    "selected_col = [\"2019-04\",\"2019-05\",\"2019-06\",\"2019-07\",\"2019-08\",\"2019-09\"]\n",
    "\n",
    "\n",
    "allhomes = allhomes.set_index(\"RegionName\") \n",
    "allhomes_cols = pd.Series(selected_col) + \" AvgHomePrice\"\n",
    "\n",
    "allhomes = allhomes[selected_col]\n",
    "allhomes.columns = allhomes_cols\n",
    "\n",
    "\n",
    "for df, name in zip(dfs, names):\n",
    "    df = df.set_index(\"RegionName\")\n",
    "    df = df[selected_col]\n",
    "    \n",
    "    cols = pd.Series(selected_col) + \" \" + name\n",
    "    cols = list(cols)\n",
    "    df.columns = cols\n",
    "    \n",
    "    allhomes = pd.concat([allhomes, df], axis = 1)\n",
    "\n",
    "    "
   ]
  },
  {
   "cell_type": "code",
   "execution_count": 123,
   "metadata": {},
   "outputs": [],
   "source": [
    "### interpolate null values ###\n",
    "\n",
    "allhomes = allhomes.fillna(0)"
   ]
  },
  {
   "cell_type": "code",
   "execution_count": 124,
   "metadata": {},
   "outputs": [],
   "source": [
    "allhomes.to_csv(\"Zillow_Homes.csv\")"
   ]
  }
 ],
 "metadata": {
  "kernelspec": {
   "display_name": "Python 3",
   "language": "python",
   "name": "python3"
  },
  "language_info": {
   "codemirror_mode": {
    "name": "ipython",
    "version": 3
   },
   "file_extension": ".py",
   "mimetype": "text/x-python",
   "name": "python",
   "nbconvert_exporter": "python",
   "pygments_lexer": "ipython3",
   "version": "3.6.5"
  }
 },
 "nbformat": 4,
 "nbformat_minor": 4
}
