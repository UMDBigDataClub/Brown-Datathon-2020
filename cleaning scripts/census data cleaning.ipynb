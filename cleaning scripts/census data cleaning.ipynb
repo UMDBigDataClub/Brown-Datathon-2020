{
 "cells": [
  {
   "cell_type": "code",
   "execution_count": 97,
   "metadata": {},
   "outputs": [],
   "source": [
    "### This code was used to clean the census bureau dataset ###\n",
    "\n",
    "import pandas as pd"
   ]
  },
  {
   "cell_type": "code",
   "execution_count": 98,
   "metadata": {},
   "outputs": [],
   "source": [
    "df = pd.read_csv(\"ACS2018DP04.csv\", dtype = \"string\")\n",
    "# Note: The other census file was processed in the same way, just using the name approproiate for that file (DP03)"
   ]
  },
  {
   "cell_type": "code",
   "execution_count": 102,
   "metadata": {},
   "outputs": [],
   "source": [
    "### Remove unwanted columns and extract zip codes ###\n",
    "\n",
    "df.columns = df.iloc[0,:]\n",
    "df = df.drop(0)\n",
    "\n",
    "wrong_labels = list(df.columns[df.columns.str.contains(\"Margin of Error\")])\n",
    "df = df.drop(labels = wrong_labels, axis = 1)\n",
    "                               \n",
    "wrong_labels2 = list(df.columns[df.columns.str.contains(\"Percent Estimate!!\")])\n",
    "df = df.drop(labels = wrong_labels2, axis = 1)\n",
    "                               \n",
    "df[\"Geographic Area Name\"] = df[\"Geographic Area Name\"].str[-5:]\n"
   ]
  },
  {
   "cell_type": "code",
   "execution_count": 106,
   "metadata": {},
   "outputs": [],
   "source": [
    "### Remove unwanted markers ###\n",
    "\n",
    "df = df.replace(\"(X)\", pd.NA)\n",
    "df = df.replace(\"***\", pd.NA)\n",
    "df = df.drop(labels = list(df.columns[df.isnull().all().values]), axis = 1)"
   ]
  },
  {
   "cell_type": "code",
   "execution_count": 109,
   "metadata": {},
   "outputs": [],
   "source": [
    "df.to_csv(\"clean_DP04.csv\")"
   ]
  }
 ],
 "metadata": {
  "kernelspec": {
   "display_name": "Python 3",
   "language": "python",
   "name": "python3"
  },
  "language_info": {
   "codemirror_mode": {
    "name": "ipython",
    "version": 3
   },
   "file_extension": ".py",
   "mimetype": "text/x-python",
   "name": "python",
   "nbconvert_exporter": "python",
   "pygments_lexer": "ipython3",
   "version": "3.6.5"
  }
 },
 "nbformat": 4,
 "nbformat_minor": 4
}
